{
 "cells": [
  {
   "cell_type": "markdown",
   "metadata": {},
   "source": [
    "## Session 13 : Assignment 1"
   ]
  },
  {
   "cell_type": "code",
   "execution_count": 1,
   "metadata": {},
   "outputs": [],
   "source": [
    "#Importing packages\n",
    "import pandas as pd\n",
    "import numpy as np"
   ]
  },
  {
   "cell_type": "code",
   "execution_count": 2,
   "metadata": {},
   "outputs": [],
   "source": [
    "df=pd.read_csv('https://archive.ics.uci.edu/ml/machine-learning-databases/adult/adult.data',names=['age','workclass','fnlwgt','education','education-num','marital-status','occupation','relationship','race','sex','capital-gain','capital-loss','hours-per-week','native-country','XYX']\n",
    "            ,skipinitialspace=True)"
   ]
  },
  {
   "cell_type": "code",
   "execution_count": 3,
   "metadata": {},
   "outputs": [
    {
     "data": {
      "text/html": [
       "<div>\n",
       "<style scoped>\n",
       "    .dataframe tbody tr th:only-of-type {\n",
       "        vertical-align: middle;\n",
       "    }\n",
       "\n",
       "    .dataframe tbody tr th {\n",
       "        vertical-align: top;\n",
       "    }\n",
       "\n",
       "    .dataframe thead th {\n",
       "        text-align: right;\n",
       "    }\n",
       "</style>\n",
       "<table border=\"1\" class=\"dataframe\">\n",
       "  <thead>\n",
       "    <tr style=\"text-align: right;\">\n",
       "      <th></th>\n",
       "      <th>age</th>\n",
       "      <th>workclass</th>\n",
       "      <th>fnlwgt</th>\n",
       "      <th>education</th>\n",
       "      <th>education-num</th>\n",
       "      <th>marital-status</th>\n",
       "      <th>occupation</th>\n",
       "      <th>relationship</th>\n",
       "      <th>race</th>\n",
       "      <th>sex</th>\n",
       "      <th>capital-gain</th>\n",
       "      <th>capital-loss</th>\n",
       "      <th>hours-per-week</th>\n",
       "      <th>native-country</th>\n",
       "      <th>XYX</th>\n",
       "    </tr>\n",
       "  </thead>\n",
       "  <tbody>\n",
       "    <tr>\n",
       "      <th>0</th>\n",
       "      <td>39</td>\n",
       "      <td>State-gov</td>\n",
       "      <td>77516</td>\n",
       "      <td>Bachelors</td>\n",
       "      <td>13</td>\n",
       "      <td>Never-married</td>\n",
       "      <td>Adm-clerical</td>\n",
       "      <td>Not-in-family</td>\n",
       "      <td>White</td>\n",
       "      <td>Male</td>\n",
       "      <td>2174</td>\n",
       "      <td>0</td>\n",
       "      <td>40</td>\n",
       "      <td>United-States</td>\n",
       "      <td>&lt;=50K</td>\n",
       "    </tr>\n",
       "    <tr>\n",
       "      <th>1</th>\n",
       "      <td>50</td>\n",
       "      <td>Self-emp-not-inc</td>\n",
       "      <td>83311</td>\n",
       "      <td>Bachelors</td>\n",
       "      <td>13</td>\n",
       "      <td>Married-civ-spouse</td>\n",
       "      <td>Exec-managerial</td>\n",
       "      <td>Husband</td>\n",
       "      <td>White</td>\n",
       "      <td>Male</td>\n",
       "      <td>0</td>\n",
       "      <td>0</td>\n",
       "      <td>13</td>\n",
       "      <td>United-States</td>\n",
       "      <td>&lt;=50K</td>\n",
       "    </tr>\n",
       "    <tr>\n",
       "      <th>2</th>\n",
       "      <td>38</td>\n",
       "      <td>Private</td>\n",
       "      <td>215646</td>\n",
       "      <td>HS-grad</td>\n",
       "      <td>9</td>\n",
       "      <td>Divorced</td>\n",
       "      <td>Handlers-cleaners</td>\n",
       "      <td>Not-in-family</td>\n",
       "      <td>White</td>\n",
       "      <td>Male</td>\n",
       "      <td>0</td>\n",
       "      <td>0</td>\n",
       "      <td>40</td>\n",
       "      <td>United-States</td>\n",
       "      <td>&lt;=50K</td>\n",
       "    </tr>\n",
       "    <tr>\n",
       "      <th>3</th>\n",
       "      <td>53</td>\n",
       "      <td>Private</td>\n",
       "      <td>234721</td>\n",
       "      <td>11th</td>\n",
       "      <td>7</td>\n",
       "      <td>Married-civ-spouse</td>\n",
       "      <td>Handlers-cleaners</td>\n",
       "      <td>Husband</td>\n",
       "      <td>Black</td>\n",
       "      <td>Male</td>\n",
       "      <td>0</td>\n",
       "      <td>0</td>\n",
       "      <td>40</td>\n",
       "      <td>United-States</td>\n",
       "      <td>&lt;=50K</td>\n",
       "    </tr>\n",
       "    <tr>\n",
       "      <th>4</th>\n",
       "      <td>28</td>\n",
       "      <td>Private</td>\n",
       "      <td>338409</td>\n",
       "      <td>Bachelors</td>\n",
       "      <td>13</td>\n",
       "      <td>Married-civ-spouse</td>\n",
       "      <td>Prof-specialty</td>\n",
       "      <td>Wife</td>\n",
       "      <td>Black</td>\n",
       "      <td>Female</td>\n",
       "      <td>0</td>\n",
       "      <td>0</td>\n",
       "      <td>40</td>\n",
       "      <td>Cuba</td>\n",
       "      <td>&lt;=50K</td>\n",
       "    </tr>\n",
       "  </tbody>\n",
       "</table>\n",
       "</div>"
      ],
      "text/plain": [
       "   age         workclass  fnlwgt  education  education-num  \\\n",
       "0   39         State-gov   77516  Bachelors             13   \n",
       "1   50  Self-emp-not-inc   83311  Bachelors             13   \n",
       "2   38           Private  215646    HS-grad              9   \n",
       "3   53           Private  234721       11th              7   \n",
       "4   28           Private  338409  Bachelors             13   \n",
       "\n",
       "       marital-status         occupation   relationship   race     sex  \\\n",
       "0       Never-married       Adm-clerical  Not-in-family  White    Male   \n",
       "1  Married-civ-spouse    Exec-managerial        Husband  White    Male   \n",
       "2            Divorced  Handlers-cleaners  Not-in-family  White    Male   \n",
       "3  Married-civ-spouse  Handlers-cleaners        Husband  Black    Male   \n",
       "4  Married-civ-spouse     Prof-specialty           Wife  Black  Female   \n",
       "\n",
       "   capital-gain  capital-loss  hours-per-week native-country    XYX  \n",
       "0          2174             0              40  United-States  <=50K  \n",
       "1             0             0              13  United-States  <=50K  \n",
       "2             0             0              40  United-States  <=50K  \n",
       "3             0             0              40  United-States  <=50K  \n",
       "4             0             0              40           Cuba  <=50K  "
      ]
     },
     "execution_count": 3,
     "metadata": {},
     "output_type": "execute_result"
    }
   ],
   "source": [
    "df.head()"
   ]
  },
  {
   "cell_type": "markdown",
   "metadata": {},
   "source": [
    "### 1. Creating SQLALCHEMY engine using sample data"
   ]
  },
  {
   "cell_type": "code",
   "execution_count": 2,
   "metadata": {},
   "outputs": [
    {
     "data": {
      "text/plain": [
       "'1.2.7'"
      ]
     },
     "execution_count": 2,
     "metadata": {},
     "output_type": "execute_result"
    }
   ],
   "source": [
    "## Importing sqlalchemy package\n",
    "import sqlalchemy as sql\n",
    "sql.__version__"
   ]
  },
  {
   "cell_type": "code",
   "execution_count": 4,
   "metadata": {},
   "outputs": [],
   "source": [
    "## Create Engine\n",
    "from sqlalchemy import create_engine\n",
    "engine = create_engine('sqlite:///:memory:', echo=True)"
   ]
  },
  {
   "cell_type": "code",
   "execution_count": 6,
   "metadata": {},
   "outputs": [],
   "source": [
    "from sqlalchemy.ext.declarative import declarative_base\n",
    "Base = declarative_base()\n",
    "\n",
    "from sqlalchemy import Column, Integer, String\n",
    "\n",
    "class Adults(Base):\n",
    "    __tablename__='adults'\n",
    "    \n",
    "    id=Column(Integer,primary_key=True)\n",
    "    age=Column(Integer)\n",
    "    workclass=Column(String)\n",
    "    fnlwgt=Column(Integer)\n",
    "    education=Column(String)\n",
    "    education_num=Column(Integer)\n",
    "    marital_status=Column(String)\n",
    "    occupation=Column(String)\n",
    "    relationship=Column(String)\n",
    "    race=Column(String)\n",
    "    sex=Column(String)\n",
    "    capital_gain=Column(Integer)\n",
    "    capital_loss=Column(Integer)\n",
    "    hours_per_week=Column(Integer)\n",
    "    native_country=Column(String)\n",
    "    XYX=Column(String)\n",
    "    \n",
    "    def __repr__(self):\n",
    "        return \"<Adults(age='%d', workclass='%s', fnlwgt='%d', education='%s', education_num='%d', marital_status='%s', occupation='%s', relationship='%s', race='%s', sex='%s', capital_gain='%d', capital_loss='%d', hours_per_week='%d', native_country='%s', XYX='%s')>\" % (self.age, self.workclass, self.fnlwgt, self.education, self.education_num, self.marital_status, self.occupation, self.relationship, self.race, self.sex, self.capital_gain, self.capital_loss, self.hours_per_week, self.native_country, self.XYX)"
   ]
  },
  {
   "cell_type": "code",
   "execution_count": 7,
   "metadata": {},
   "outputs": [
    {
     "data": {
      "text/plain": [
       "Table('adults', MetaData(bind=None), Column('id', Integer(), table=<adults>, primary_key=True, nullable=False), Column('age', Integer(), table=<adults>), Column('workclass', String(), table=<adults>), Column('fnlwgt', Integer(), table=<adults>), Column('education', String(), table=<adults>), Column('education_num', Integer(), table=<adults>), Column('marital_status', String(), table=<adults>), Column('occupation', String(), table=<adults>), Column('relationship', String(), table=<adults>), Column('race', String(), table=<adults>), Column('sex', String(), table=<adults>), Column('capital_gain', Integer(), table=<adults>), Column('capital_loss', Integer(), table=<adults>), Column('hours_per_week', Integer(), table=<adults>), Column('native_country', String(), table=<adults>), Column('XYX', String(), table=<adults>), schema=None)"
      ]
     },
     "execution_count": 7,
     "metadata": {},
     "output_type": "execute_result"
    }
   ],
   "source": [
    "Adults.__table__"
   ]
  },
  {
   "cell_type": "code",
   "execution_count": 8,
   "metadata": {},
   "outputs": [
    {
     "name": "stdout",
     "output_type": "stream",
     "text": [
      "2019-01-11 10:07:29,912 INFO sqlalchemy.engine.base.Engine SELECT CAST('test plain returns' AS VARCHAR(60)) AS anon_1\n",
      "2019-01-11 10:07:29,983 INFO sqlalchemy.engine.base.Engine ()\n",
      "2019-01-11 10:07:29,987 INFO sqlalchemy.engine.base.Engine SELECT CAST('test unicode returns' AS VARCHAR(60)) AS anon_1\n",
      "2019-01-11 10:07:29,990 INFO sqlalchemy.engine.base.Engine ()\n",
      "2019-01-11 10:07:29,996 INFO sqlalchemy.engine.base.Engine PRAGMA table_info(\"adults\")\n",
      "2019-01-11 10:07:29,999 INFO sqlalchemy.engine.base.Engine ()\n",
      "2019-01-11 10:07:30,009 INFO sqlalchemy.engine.base.Engine \n",
      "CREATE TABLE adults (\n",
      "\tid INTEGER NOT NULL, \n",
      "\tage INTEGER, \n",
      "\tworkclass VARCHAR, \n",
      "\tfnlwgt INTEGER, \n",
      "\teducation VARCHAR, \n",
      "\teducation_num INTEGER, \n",
      "\tmarital_status VARCHAR, \n",
      "\toccupation VARCHAR, \n",
      "\trelationship VARCHAR, \n",
      "\trace VARCHAR, \n",
      "\tsex VARCHAR, \n",
      "\tcapital_gain INTEGER, \n",
      "\tcapital_loss INTEGER, \n",
      "\thours_per_week INTEGER, \n",
      "\tnative_country VARCHAR, \n",
      "\t\"XYX\" VARCHAR, \n",
      "\tPRIMARY KEY (id)\n",
      ")\n",
      "\n",
      "\n",
      "2019-01-11 10:07:30,012 INFO sqlalchemy.engine.base.Engine ()\n",
      "2019-01-11 10:07:30,017 INFO sqlalchemy.engine.base.Engine COMMIT\n"
     ]
    }
   ],
   "source": [
    "Base.metadata.create_all(engine)"
   ]
  },
  {
   "cell_type": "code",
   "execution_count": 9,
   "metadata": {},
   "outputs": [],
   "source": [
    "\n",
    "from sqlalchemy.orm import sessionmaker\n",
    "Session = sessionmaker(bind=engine)\n",
    "Session = sessionmaker()\n",
    "Session.configure(bind=engine)\n",
    "session = Session()\n"
   ]
  },
  {
   "cell_type": "code",
   "execution_count": 13,
   "metadata": {},
   "outputs": [],
   "source": [
    "### Inserting sample data\n",
    "adult=Adults(age=39, workclass='State-gov', fnlwgt=77516, education='Bachelors', education_num=13, marital_status='Never-married', occupation='Adm-clerical', relationship='Not-in-family', race='White', sex='Male', capital_gain=2174, capital_loss=0, hours_per_week=40, native_country='United-States', XYX='<=50K')\n",
    "session.add(adult)\n",
    "adult=Adults(age=50, workclass='Self-emp-not-inc', fnlwgt=83311, education='Bachelors', education_num=13, marital_status='Married-civ-spouse', occupation='Exec-managerial', relationship='Husband', race='White', sex='Male', capital_gain=0, capital_loss=0, hours_per_week=13, native_country='United-States', XYX='<=50K')\n",
    "session.add(adult)\n",
    "adult=Adults(age=38, workclass='Private', fnlwgt=215646, education='HS-grad', education_num=9, marital_status='Divorced', occupation='Handlers-cleaners', relationship='Not-in-family', race='White', sex='Male', capital_gain=0, capital_loss=0, hours_per_week=40, native_country='United-States', XYX='<=50K')\n",
    "session.add(adult)\n",
    "adult=Adults(age=53, workclass='Private', fnlwgt=234721, education='11th', education_num=7, marital_status='Married-civ-spouse', occupation='Handlers-cleaners', relationship='Husband', race='White', sex='Male', capital_gain=0, capital_loss=0, hours_per_week=40, native_country='United-States', XYX='<=50K')\n",
    "session.add(adult)\n",
    "session.add(adult)\n",
    "adult=Adults(age=28, workclass='Private', fnlwgt=338409, education='Bachelors', education_num=13, marital_status='Married-civ-spouse', occupation='Prof-specialty', relationship='Wife', race='Black', sex='Female', capital_gain=0, capital_loss=0, hours_per_week=40, native_country='Cuba', XYX='<=50K')\n",
    "session.add(adult)"
   ]
  },
  {
   "cell_type": "code",
   "execution_count": 16,
   "metadata": {},
   "outputs": [
    {
     "name": "stdout",
     "output_type": "stream",
     "text": [
      "2019-01-11 10:18:20,826 INFO sqlalchemy.engine.base.Engine BEGIN (implicit)\n",
      "2019-01-11 10:18:20,836 INFO sqlalchemy.engine.base.Engine SELECT adults.id AS adults_id, adults.age AS adults_age, adults.workclass AS adults_workclass, adults.fnlwgt AS adults_fnlwgt, adults.education AS adults_education, adults.education_num AS adults_education_num, adults.marital_status AS adults_marital_status, adults.occupation AS adults_occupation, adults.relationship AS adults_relationship, adults.race AS adults_race, adults.sex AS adults_sex, adults.capital_gain AS adults_capital_gain, adults.capital_loss AS adults_capital_loss, adults.hours_per_week AS adults_hours_per_week, adults.native_country AS adults_native_country, adults.\"XYX\" AS \"adults_XYX\" \n",
      "FROM adults\n",
      "2019-01-11 10:18:20,843 INFO sqlalchemy.engine.base.Engine ()\n"
     ]
    },
    {
     "data": {
      "text/plain": [
       "[<Adults(age='28', workclass='Private', fnlwgt='338409', education='Bachelors', education_num='13', marital_status='Married-civ-spouse', occupation='Prof-specialty', relationship='Wife', race='Black', sex='Female', capital_gain='0', capital_loss='0', hours_per_week='40', native_country='Cuba', XYX='<=50K')>,\n",
       " <Adults(age='39', workclass='State-gov', fnlwgt='77516', education='Bachelors', education_num='13', marital_status='Never-married', occupation='Adm-clerical', relationship='Not-in-family', race='White', sex='Male', capital_gain='2174', capital_loss='0', hours_per_week='40', native_country='United-States', XYX='<=50K')>,\n",
       " <Adults(age='50', workclass='Self-emp-not-inc', fnlwgt='83311', education='Bachelors', education_num='13', marital_status='Married-civ-spouse', occupation='Exec-managerial', relationship='Husband', race='White', sex='Male', capital_gain='0', capital_loss='0', hours_per_week='13', native_country='United-States', XYX='<=50K')>,\n",
       " <Adults(age='38', workclass='Private', fnlwgt='215646', education='HS-grad', education_num='9', marital_status='Divorced', occupation='Handlers-cleaners', relationship='Not-in-family', race='White', sex='Male', capital_gain='0', capital_loss='0', hours_per_week='40', native_country='United-States', XYX='<=50K')>,\n",
       " <Adults(age='53', workclass='Private', fnlwgt='234721', education='11th', education_num='7', marital_status='Married-civ-spouse', occupation='Handlers-cleaners', relationship='Husband', race='White', sex='Male', capital_gain='0', capital_loss='0', hours_per_week='40', native_country='United-States', XYX='<=50K')>,\n",
       " <Adults(age='28', workclass='Private', fnlwgt='338409', education='Bachelors', education_num='13', marital_status='Married-civ-spouse', occupation='Prof-specialty', relationship='Wife', race='Black', sex='Female', capital_gain='0', capital_loss='0', hours_per_week='40', native_country='Cuba', XYX='<=50K')>,\n",
       " <Adults(age='39', workclass='State-gov', fnlwgt='77516', education='Bachelors', education_num='13', marital_status='Never-married', occupation='Adm-clerical', relationship='Not-in-family', race='White', sex='Male', capital_gain='2174', capital_loss='0', hours_per_week='40', native_country='United-States', XYX='<=50K')>,\n",
       " <Adults(age='50', workclass='Self-emp-not-inc', fnlwgt='83311', education='Bachelors', education_num='13', marital_status='Married-civ-spouse', occupation='Exec-managerial', relationship='Husband', race='White', sex='Male', capital_gain='0', capital_loss='0', hours_per_week='13', native_country='United-States', XYX='<=50K')>,\n",
       " <Adults(age='38', workclass='Private', fnlwgt='215646', education='HS-grad', education_num='9', marital_status='Divorced', occupation='Handlers-cleaners', relationship='Not-in-family', race='White', sex='Male', capital_gain='0', capital_loss='0', hours_per_week='40', native_country='United-States', XYX='<=50K')>,\n",
       " <Adults(age='53', workclass='Private', fnlwgt='234721', education='11th', education_num='7', marital_status='Married-civ-spouse', occupation='Handlers-cleaners', relationship='Husband', race='White', sex='Male', capital_gain='0', capital_loss='0', hours_per_week='40', native_country='United-States', XYX='<=50K')>,\n",
       " <Adults(age='28', workclass='Private', fnlwgt='338409', education='Bachelors', education_num='13', marital_status='Married-civ-spouse', occupation='Prof-specialty', relationship='Wife', race='Black', sex='Female', capital_gain='0', capital_loss='0', hours_per_week='40', native_country='Cuba', XYX='<=50K')>]"
      ]
     },
     "execution_count": 16,
     "metadata": {},
     "output_type": "execute_result"
    }
   ],
   "source": [
    "get_adult=session.query(Adults).all()\n",
    "get_adult"
   ]
  },
  {
   "cell_type": "code",
   "execution_count": 15,
   "metadata": {},
   "outputs": [
    {
     "name": "stdout",
     "output_type": "stream",
     "text": [
      "2019-01-11 10:12:26,318 INFO sqlalchemy.engine.base.Engine COMMIT\n"
     ]
    }
   ],
   "source": [
    "session.commit()"
   ]
  },
  {
   "cell_type": "markdown",
   "metadata": {},
   "source": [
    "### 2. Basic Update query"
   ]
  },
  {
   "cell_type": "markdown",
   "metadata": {},
   "source": [
    "#### 2.1 Update Query 1"
   ]
  },
  {
   "cell_type": "code",
   "execution_count": 17,
   "metadata": {},
   "outputs": [
    {
     "name": "stdout",
     "output_type": "stream",
     "text": [
      "2019-01-11 10:19:25,880 INFO sqlalchemy.engine.base.Engine UPDATE adults SET education=? WHERE adults.age = ?\n",
      "2019-01-11 10:19:25,882 INFO sqlalchemy.engine.base.Engine ('Bachelors_Degree', 39)\n",
      "2019-01-11 10:19:25,885 INFO sqlalchemy.engine.base.Engine COMMIT\n"
     ]
    }
   ],
   "source": [
    "## Update education to Bachelors_Degree where age == 39 \n",
    "session.query(Adults).filter(Adults.age == 39).update({'education': \"Bachelors_Degree\"})\n",
    "session.commit()"
   ]
  },
  {
   "cell_type": "code",
   "execution_count": 18,
   "metadata": {},
   "outputs": [
    {
     "name": "stdout",
     "output_type": "stream",
     "text": [
      "2019-01-11 10:19:37,390 INFO sqlalchemy.engine.base.Engine BEGIN (implicit)\n",
      "2019-01-11 10:19:37,395 INFO sqlalchemy.engine.base.Engine SELECT adults.id AS adults_id, adults.age AS adults_age, adults.workclass AS adults_workclass, adults.fnlwgt AS adults_fnlwgt, adults.education AS adults_education, adults.education_num AS adults_education_num, adults.marital_status AS adults_marital_status, adults.occupation AS adults_occupation, adults.relationship AS adults_relationship, adults.race AS adults_race, adults.sex AS adults_sex, adults.capital_gain AS adults_capital_gain, adults.capital_loss AS adults_capital_loss, adults.hours_per_week AS adults_hours_per_week, adults.native_country AS adults_native_country, adults.\"XYX\" AS \"adults_XYX\" \n",
      "FROM adults \n",
      "WHERE adults.age = ?\n",
      "2019-01-11 10:19:37,397 INFO sqlalchemy.engine.base.Engine (39,)\n"
     ]
    },
    {
     "data": {
      "text/plain": [
       "[<Adults(age='39', workclass='State-gov', fnlwgt='77516', education='Bachelors_Degree', education_num='13', marital_status='Never-married', occupation='Adm-clerical', relationship='Not-in-family', race='White', sex='Male', capital_gain='2174', capital_loss='0', hours_per_week='40', native_country='United-States', XYX='<=50K')>,\n",
       " <Adults(age='39', workclass='State-gov', fnlwgt='77516', education='Bachelors_Degree', education_num='13', marital_status='Never-married', occupation='Adm-clerical', relationship='Not-in-family', race='White', sex='Male', capital_gain='2174', capital_loss='0', hours_per_week='40', native_country='United-States', XYX='<=50K')>]"
      ]
     },
     "execution_count": 18,
     "metadata": {},
     "output_type": "execute_result"
    }
   ],
   "source": [
    "## Verifiying data\n",
    "session.query(Adults).filter(Adults.age == 39).all()"
   ]
  },
  {
   "cell_type": "markdown",
   "metadata": {},
   "source": [
    "#### 2.2 Update Query 2"
   ]
  },
  {
   "cell_type": "code",
   "execution_count": 19,
   "metadata": {},
   "outputs": [
    {
     "name": "stdout",
     "output_type": "stream",
     "text": [
      "2019-01-11 10:20:42,911 INFO sqlalchemy.engine.base.Engine SELECT adults.id AS adults_id, adults.age AS adults_age, adults.workclass AS adults_workclass, adults.fnlwgt AS adults_fnlwgt, adults.education AS adults_education, adults.education_num AS adults_education_num, adults.marital_status AS adults_marital_status, adults.occupation AS adults_occupation, adults.relationship AS adults_relationship, adults.race AS adults_race, adults.sex AS adults_sex, adults.capital_gain AS adults_capital_gain, adults.capital_loss AS adults_capital_loss, adults.hours_per_week AS adults_hours_per_week, adults.native_country AS adults_native_country, adults.\"XYX\" AS \"adults_XYX\" \n",
      "FROM adults \n",
      "WHERE adults.id = ?\n",
      "2019-01-11 10:20:42,914 INFO sqlalchemy.engine.base.Engine (1,)\n",
      "2019-01-11 10:20:42,918 INFO sqlalchemy.engine.base.Engine SELECT adults.id AS adults_id, adults.age AS adults_age, adults.workclass AS adults_workclass, adults.fnlwgt AS adults_fnlwgt, adults.education AS adults_education, adults.education_num AS adults_education_num, adults.marital_status AS adults_marital_status, adults.occupation AS adults_occupation, adults.relationship AS adults_relationship, adults.race AS adults_race, adults.sex AS adults_sex, adults.capital_gain AS adults_capital_gain, adults.capital_loss AS adults_capital_loss, adults.hours_per_week AS adults_hours_per_week, adults.native_country AS adults_native_country, adults.\"XYX\" AS \"adults_XYX\" \n",
      "FROM adults \n",
      "WHERE adults.id = ?\n",
      "2019-01-11 10:20:42,919 INFO sqlalchemy.engine.base.Engine (11,)\n",
      "2019-01-11 10:20:42,923 INFO sqlalchemy.engine.base.Engine SELECT adults.id AS adults_id, adults.age AS adults_age, adults.workclass AS adults_workclass, adults.fnlwgt AS adults_fnlwgt, adults.education AS adults_education, adults.education_num AS adults_education_num, adults.marital_status AS adults_marital_status, adults.occupation AS adults_occupation, adults.relationship AS adults_relationship, adults.race AS adults_race, adults.sex AS adults_sex, adults.capital_gain AS adults_capital_gain, adults.capital_loss AS adults_capital_loss, adults.hours_per_week AS adults_hours_per_week, adults.native_country AS adults_native_country, adults.\"XYX\" AS \"adults_XYX\" \n",
      "FROM adults \n",
      "WHERE adults.id = ?\n",
      "2019-01-11 10:20:42,925 INFO sqlalchemy.engine.base.Engine (3,)\n",
      "2019-01-11 10:20:42,929 INFO sqlalchemy.engine.base.Engine SELECT adults.id AS adults_id, adults.age AS adults_age, adults.workclass AS adults_workclass, adults.fnlwgt AS adults_fnlwgt, adults.education AS adults_education, adults.education_num AS adults_education_num, adults.marital_status AS adults_marital_status, adults.occupation AS adults_occupation, adults.relationship AS adults_relationship, adults.race AS adults_race, adults.sex AS adults_sex, adults.capital_gain AS adults_capital_gain, adults.capital_loss AS adults_capital_loss, adults.hours_per_week AS adults_hours_per_week, adults.native_country AS adults_native_country, adults.\"XYX\" AS \"adults_XYX\" \n",
      "FROM adults \n",
      "WHERE adults.id = ?\n",
      "2019-01-11 10:20:42,932 INFO sqlalchemy.engine.base.Engine (4,)\n",
      "2019-01-11 10:20:42,935 INFO sqlalchemy.engine.base.Engine SELECT adults.id AS adults_id, adults.age AS adults_age, adults.workclass AS adults_workclass, adults.fnlwgt AS adults_fnlwgt, adults.education AS adults_education, adults.education_num AS adults_education_num, adults.marital_status AS adults_marital_status, adults.occupation AS adults_occupation, adults.relationship AS adults_relationship, adults.race AS adults_race, adults.sex AS adults_sex, adults.capital_gain AS adults_capital_gain, adults.capital_loss AS adults_capital_loss, adults.hours_per_week AS adults_hours_per_week, adults.native_country AS adults_native_country, adults.\"XYX\" AS \"adults_XYX\" \n",
      "FROM adults \n",
      "WHERE adults.id = ?\n",
      "2019-01-11 10:20:42,938 INFO sqlalchemy.engine.base.Engine (5,)\n",
      "2019-01-11 10:20:42,942 INFO sqlalchemy.engine.base.Engine SELECT adults.id AS adults_id, adults.age AS adults_age, adults.workclass AS adults_workclass, adults.fnlwgt AS adults_fnlwgt, adults.education AS adults_education, adults.education_num AS adults_education_num, adults.marital_status AS adults_marital_status, adults.occupation AS adults_occupation, adults.relationship AS adults_relationship, adults.race AS adults_race, adults.sex AS adults_sex, adults.capital_gain AS adults_capital_gain, adults.capital_loss AS adults_capital_loss, adults.hours_per_week AS adults_hours_per_week, adults.native_country AS adults_native_country, adults.\"XYX\" AS \"adults_XYX\" \n",
      "FROM adults \n",
      "WHERE adults.id = ?\n",
      "2019-01-11 10:20:42,944 INFO sqlalchemy.engine.base.Engine (6,)\n",
      "2019-01-11 10:20:42,947 INFO sqlalchemy.engine.base.Engine SELECT adults.id AS adults_id, adults.age AS adults_age, adults.workclass AS adults_workclass, adults.fnlwgt AS adults_fnlwgt, adults.education AS adults_education, adults.education_num AS adults_education_num, adults.marital_status AS adults_marital_status, adults.occupation AS adults_occupation, adults.relationship AS adults_relationship, adults.race AS adults_race, adults.sex AS adults_sex, adults.capital_gain AS adults_capital_gain, adults.capital_loss AS adults_capital_loss, adults.hours_per_week AS adults_hours_per_week, adults.native_country AS adults_native_country, adults.\"XYX\" AS \"adults_XYX\" \n",
      "FROM adults \n",
      "WHERE adults.id = ?\n",
      "2019-01-11 10:20:42,952 INFO sqlalchemy.engine.base.Engine (8,)\n",
      "2019-01-11 10:20:42,955 INFO sqlalchemy.engine.base.Engine SELECT adults.id AS adults_id, adults.age AS adults_age, adults.workclass AS adults_workclass, adults.fnlwgt AS adults_fnlwgt, adults.education AS adults_education, adults.education_num AS adults_education_num, adults.marital_status AS adults_marital_status, adults.occupation AS adults_occupation, adults.relationship AS adults_relationship, adults.race AS adults_race, adults.sex AS adults_sex, adults.capital_gain AS adults_capital_gain, adults.capital_loss AS adults_capital_loss, adults.hours_per_week AS adults_hours_per_week, adults.native_country AS adults_native_country, adults.\"XYX\" AS \"adults_XYX\" \n",
      "FROM adults \n",
      "WHERE adults.id = ?\n",
      "2019-01-11 10:20:42,957 INFO sqlalchemy.engine.base.Engine (9,)\n",
      "2019-01-11 10:20:42,961 INFO sqlalchemy.engine.base.Engine SELECT adults.id AS adults_id, adults.age AS adults_age, adults.workclass AS adults_workclass, adults.fnlwgt AS adults_fnlwgt, adults.education AS adults_education, adults.education_num AS adults_education_num, adults.marital_status AS adults_marital_status, adults.occupation AS adults_occupation, adults.relationship AS adults_relationship, adults.race AS adults_race, adults.sex AS adults_sex, adults.capital_gain AS adults_capital_gain, adults.capital_loss AS adults_capital_loss, adults.hours_per_week AS adults_hours_per_week, adults.native_country AS adults_native_country, adults.\"XYX\" AS \"adults_XYX\" \n",
      "FROM adults \n",
      "WHERE adults.id = ?\n",
      "2019-01-11 10:20:42,964 INFO sqlalchemy.engine.base.Engine (10,)\n",
      "2019-01-11 10:20:42,970 INFO sqlalchemy.engine.base.Engine UPDATE adults SET native_country=? WHERE adults.native_country = ?\n",
      "2019-01-11 10:20:42,971 INFO sqlalchemy.engine.base.Engine ('USA', 'United-States')\n",
      "2019-01-11 10:20:42,975 INFO sqlalchemy.engine.base.Engine COMMIT\n"
     ]
    }
   ],
   "source": [
    "## Update native counrty United-States to USA\n",
    "session.query(Adults).filter(Adults.native_country == 'United-States').update({'native_country': \"USA\"})\n",
    "session.commit()"
   ]
  },
  {
   "cell_type": "code",
   "execution_count": 20,
   "metadata": {},
   "outputs": [
    {
     "name": "stdout",
     "output_type": "stream",
     "text": [
      "2019-01-11 10:21:02,699 INFO sqlalchemy.engine.base.Engine BEGIN (implicit)\n",
      "2019-01-11 10:21:02,703 INFO sqlalchemy.engine.base.Engine SELECT adults.id AS adults_id, adults.age AS adults_age, adults.workclass AS adults_workclass, adults.fnlwgt AS adults_fnlwgt, adults.education AS adults_education, adults.education_num AS adults_education_num, adults.marital_status AS adults_marital_status, adults.occupation AS adults_occupation, adults.relationship AS adults_relationship, adults.race AS adults_race, adults.sex AS adults_sex, adults.capital_gain AS adults_capital_gain, adults.capital_loss AS adults_capital_loss, adults.hours_per_week AS adults_hours_per_week, adults.native_country AS adults_native_country, adults.\"XYX\" AS \"adults_XYX\" \n",
      "FROM adults\n",
      "2019-01-11 10:21:02,705 INFO sqlalchemy.engine.base.Engine ()\n"
     ]
    },
    {
     "data": {
      "text/plain": [
       "[<Adults(age='28', workclass='Private', fnlwgt='338409', education='Bachelors', education_num='13', marital_status='Married-civ-spouse', occupation='Prof-specialty', relationship='Wife', race='Black', sex='Female', capital_gain='0', capital_loss='0', hours_per_week='40', native_country='Cuba', XYX='<=50K')>,\n",
       " <Adults(age='39', workclass='State-gov', fnlwgt='77516', education='Bachelors_Degree', education_num='13', marital_status='Never-married', occupation='Adm-clerical', relationship='Not-in-family', race='White', sex='Male', capital_gain='2174', capital_loss='0', hours_per_week='40', native_country='USA', XYX='<=50K')>,\n",
       " <Adults(age='50', workclass='Self-emp-not-inc', fnlwgt='83311', education='Bachelors', education_num='13', marital_status='Married-civ-spouse', occupation='Exec-managerial', relationship='Husband', race='White', sex='Male', capital_gain='0', capital_loss='0', hours_per_week='13', native_country='USA', XYX='<=50K')>,\n",
       " <Adults(age='38', workclass='Private', fnlwgt='215646', education='HS-grad', education_num='9', marital_status='Divorced', occupation='Handlers-cleaners', relationship='Not-in-family', race='White', sex='Male', capital_gain='0', capital_loss='0', hours_per_week='40', native_country='USA', XYX='<=50K')>,\n",
       " <Adults(age='53', workclass='Private', fnlwgt='234721', education='11th', education_num='7', marital_status='Married-civ-spouse', occupation='Handlers-cleaners', relationship='Husband', race='White', sex='Male', capital_gain='0', capital_loss='0', hours_per_week='40', native_country='USA', XYX='<=50K')>,\n",
       " <Adults(age='28', workclass='Private', fnlwgt='338409', education='Bachelors', education_num='13', marital_status='Married-civ-spouse', occupation='Prof-specialty', relationship='Wife', race='Black', sex='Female', capital_gain='0', capital_loss='0', hours_per_week='40', native_country='Cuba', XYX='<=50K')>,\n",
       " <Adults(age='39', workclass='State-gov', fnlwgt='77516', education='Bachelors_Degree', education_num='13', marital_status='Never-married', occupation='Adm-clerical', relationship='Not-in-family', race='White', sex='Male', capital_gain='2174', capital_loss='0', hours_per_week='40', native_country='USA', XYX='<=50K')>,\n",
       " <Adults(age='50', workclass='Self-emp-not-inc', fnlwgt='83311', education='Bachelors', education_num='13', marital_status='Married-civ-spouse', occupation='Exec-managerial', relationship='Husband', race='White', sex='Male', capital_gain='0', capital_loss='0', hours_per_week='13', native_country='USA', XYX='<=50K')>,\n",
       " <Adults(age='38', workclass='Private', fnlwgt='215646', education='HS-grad', education_num='9', marital_status='Divorced', occupation='Handlers-cleaners', relationship='Not-in-family', race='White', sex='Male', capital_gain='0', capital_loss='0', hours_per_week='40', native_country='USA', XYX='<=50K')>,\n",
       " <Adults(age='53', workclass='Private', fnlwgt='234721', education='11th', education_num='7', marital_status='Married-civ-spouse', occupation='Handlers-cleaners', relationship='Husband', race='White', sex='Male', capital_gain='0', capital_loss='0', hours_per_week='40', native_country='USA', XYX='<=50K')>,\n",
       " <Adults(age='28', workclass='Private', fnlwgt='338409', education='Bachelors', education_num='13', marital_status='Married-civ-spouse', occupation='Prof-specialty', relationship='Wife', race='Black', sex='Female', capital_gain='0', capital_loss='0', hours_per_week='40', native_country='Cuba', XYX='<=50K')>]"
      ]
     },
     "execution_count": 20,
     "metadata": {},
     "output_type": "execute_result"
    }
   ],
   "source": [
    "## Verifiying data\n",
    "session.query(Adults).all()"
   ]
  },
  {
   "cell_type": "markdown",
   "metadata": {},
   "source": [
    "### 3. Basic Delete Query"
   ]
  },
  {
   "cell_type": "markdown",
   "metadata": {},
   "source": [
    "#### 3.1 Delete query 1"
   ]
  },
  {
   "cell_type": "code",
   "execution_count": 21,
   "metadata": {},
   "outputs": [
    {
     "name": "stdout",
     "output_type": "stream",
     "text": [
      "2019-01-11 10:22:13,076 INFO sqlalchemy.engine.base.Engine DELETE FROM adults WHERE adults.age = ?\n",
      "2019-01-11 10:22:13,079 INFO sqlalchemy.engine.base.Engine (50,)\n",
      "2019-01-11 10:22:13,081 INFO sqlalchemy.engine.base.Engine COMMIT\n"
     ]
    }
   ],
   "source": [
    "## Delete rows where age == 50\n",
    "session.query(Adults).filter(Adults.age == 50).delete()\n",
    "session.commit()"
   ]
  },
  {
   "cell_type": "code",
   "execution_count": 22,
   "metadata": {},
   "outputs": [
    {
     "name": "stdout",
     "output_type": "stream",
     "text": [
      "2019-01-11 10:22:16,535 INFO sqlalchemy.engine.base.Engine BEGIN (implicit)\n",
      "2019-01-11 10:22:16,538 INFO sqlalchemy.engine.base.Engine SELECT adults.id AS adults_id, adults.age AS adults_age, adults.workclass AS adults_workclass, adults.fnlwgt AS adults_fnlwgt, adults.education AS adults_education, adults.education_num AS adults_education_num, adults.marital_status AS adults_marital_status, adults.occupation AS adults_occupation, adults.relationship AS adults_relationship, adults.race AS adults_race, adults.sex AS adults_sex, adults.capital_gain AS adults_capital_gain, adults.capital_loss AS adults_capital_loss, adults.hours_per_week AS adults_hours_per_week, adults.native_country AS adults_native_country, adults.\"XYX\" AS \"adults_XYX\" \n",
      "FROM adults\n",
      "2019-01-11 10:22:16,540 INFO sqlalchemy.engine.base.Engine ()\n"
     ]
    },
    {
     "data": {
      "text/plain": [
       "[<Adults(age='28', workclass='Private', fnlwgt='338409', education='Bachelors', education_num='13', marital_status='Married-civ-spouse', occupation='Prof-specialty', relationship='Wife', race='Black', sex='Female', capital_gain='0', capital_loss='0', hours_per_week='40', native_country='Cuba', XYX='<=50K')>,\n",
       " <Adults(age='39', workclass='State-gov', fnlwgt='77516', education='Bachelors_Degree', education_num='13', marital_status='Never-married', occupation='Adm-clerical', relationship='Not-in-family', race='White', sex='Male', capital_gain='2174', capital_loss='0', hours_per_week='40', native_country='USA', XYX='<=50K')>,\n",
       " <Adults(age='38', workclass='Private', fnlwgt='215646', education='HS-grad', education_num='9', marital_status='Divorced', occupation='Handlers-cleaners', relationship='Not-in-family', race='White', sex='Male', capital_gain='0', capital_loss='0', hours_per_week='40', native_country='USA', XYX='<=50K')>,\n",
       " <Adults(age='53', workclass='Private', fnlwgt='234721', education='11th', education_num='7', marital_status='Married-civ-spouse', occupation='Handlers-cleaners', relationship='Husband', race='White', sex='Male', capital_gain='0', capital_loss='0', hours_per_week='40', native_country='USA', XYX='<=50K')>,\n",
       " <Adults(age='28', workclass='Private', fnlwgt='338409', education='Bachelors', education_num='13', marital_status='Married-civ-spouse', occupation='Prof-specialty', relationship='Wife', race='Black', sex='Female', capital_gain='0', capital_loss='0', hours_per_week='40', native_country='Cuba', XYX='<=50K')>,\n",
       " <Adults(age='39', workclass='State-gov', fnlwgt='77516', education='Bachelors_Degree', education_num='13', marital_status='Never-married', occupation='Adm-clerical', relationship='Not-in-family', race='White', sex='Male', capital_gain='2174', capital_loss='0', hours_per_week='40', native_country='USA', XYX='<=50K')>,\n",
       " <Adults(age='38', workclass='Private', fnlwgt='215646', education='HS-grad', education_num='9', marital_status='Divorced', occupation='Handlers-cleaners', relationship='Not-in-family', race='White', sex='Male', capital_gain='0', capital_loss='0', hours_per_week='40', native_country='USA', XYX='<=50K')>,\n",
       " <Adults(age='53', workclass='Private', fnlwgt='234721', education='11th', education_num='7', marital_status='Married-civ-spouse', occupation='Handlers-cleaners', relationship='Husband', race='White', sex='Male', capital_gain='0', capital_loss='0', hours_per_week='40', native_country='USA', XYX='<=50K')>,\n",
       " <Adults(age='28', workclass='Private', fnlwgt='338409', education='Bachelors', education_num='13', marital_status='Married-civ-spouse', occupation='Prof-specialty', relationship='Wife', race='Black', sex='Female', capital_gain='0', capital_loss='0', hours_per_week='40', native_country='Cuba', XYX='<=50K')>]"
      ]
     },
     "execution_count": 22,
     "metadata": {},
     "output_type": "execute_result"
    }
   ],
   "source": [
    "session.query(Adults).all()"
   ]
  },
  {
   "cell_type": "markdown",
   "metadata": {},
   "source": [
    "#### 3.2 Delete query 2"
   ]
  },
  {
   "cell_type": "code",
   "execution_count": 23,
   "metadata": {},
   "outputs": [
    {
     "name": "stdout",
     "output_type": "stream",
     "text": [
      "2019-01-11 10:23:14,103 INFO sqlalchemy.engine.base.Engine DELETE FROM adults WHERE adults.relationship = ?\n",
      "2019-01-11 10:23:14,106 INFO sqlalchemy.engine.base.Engine ('Husband',)\n",
      "2019-01-11 10:23:14,108 INFO sqlalchemy.engine.base.Engine COMMIT\n"
     ]
    }
   ],
   "source": [
    "## Delete rows where relationship == 'Husband'\n",
    "session.query(Adults).filter(Adults.relationship == 'Husband').delete()\n",
    "session.commit()"
   ]
  },
  {
   "cell_type": "code",
   "execution_count": 24,
   "metadata": {},
   "outputs": [
    {
     "name": "stdout",
     "output_type": "stream",
     "text": [
      "2019-01-11 10:23:17,072 INFO sqlalchemy.engine.base.Engine BEGIN (implicit)\n",
      "2019-01-11 10:23:17,075 INFO sqlalchemy.engine.base.Engine SELECT adults.id AS adults_id, adults.age AS adults_age, adults.workclass AS adults_workclass, adults.fnlwgt AS adults_fnlwgt, adults.education AS adults_education, adults.education_num AS adults_education_num, adults.marital_status AS adults_marital_status, adults.occupation AS adults_occupation, adults.relationship AS adults_relationship, adults.race AS adults_race, adults.sex AS adults_sex, adults.capital_gain AS adults_capital_gain, adults.capital_loss AS adults_capital_loss, adults.hours_per_week AS adults_hours_per_week, adults.native_country AS adults_native_country, adults.\"XYX\" AS \"adults_XYX\" \n",
      "FROM adults\n",
      "2019-01-11 10:23:17,077 INFO sqlalchemy.engine.base.Engine ()\n"
     ]
    },
    {
     "data": {
      "text/plain": [
       "[<Adults(age='28', workclass='Private', fnlwgt='338409', education='Bachelors', education_num='13', marital_status='Married-civ-spouse', occupation='Prof-specialty', relationship='Wife', race='Black', sex='Female', capital_gain='0', capital_loss='0', hours_per_week='40', native_country='Cuba', XYX='<=50K')>,\n",
       " <Adults(age='39', workclass='State-gov', fnlwgt='77516', education='Bachelors_Degree', education_num='13', marital_status='Never-married', occupation='Adm-clerical', relationship='Not-in-family', race='White', sex='Male', capital_gain='2174', capital_loss='0', hours_per_week='40', native_country='USA', XYX='<=50K')>,\n",
       " <Adults(age='38', workclass='Private', fnlwgt='215646', education='HS-grad', education_num='9', marital_status='Divorced', occupation='Handlers-cleaners', relationship='Not-in-family', race='White', sex='Male', capital_gain='0', capital_loss='0', hours_per_week='40', native_country='USA', XYX='<=50K')>,\n",
       " <Adults(age='28', workclass='Private', fnlwgt='338409', education='Bachelors', education_num='13', marital_status='Married-civ-spouse', occupation='Prof-specialty', relationship='Wife', race='Black', sex='Female', capital_gain='0', capital_loss='0', hours_per_week='40', native_country='Cuba', XYX='<=50K')>,\n",
       " <Adults(age='39', workclass='State-gov', fnlwgt='77516', education='Bachelors_Degree', education_num='13', marital_status='Never-married', occupation='Adm-clerical', relationship='Not-in-family', race='White', sex='Male', capital_gain='2174', capital_loss='0', hours_per_week='40', native_country='USA', XYX='<=50K')>,\n",
       " <Adults(age='38', workclass='Private', fnlwgt='215646', education='HS-grad', education_num='9', marital_status='Divorced', occupation='Handlers-cleaners', relationship='Not-in-family', race='White', sex='Male', capital_gain='0', capital_loss='0', hours_per_week='40', native_country='USA', XYX='<=50K')>,\n",
       " <Adults(age='28', workclass='Private', fnlwgt='338409', education='Bachelors', education_num='13', marital_status='Married-civ-spouse', occupation='Prof-specialty', relationship='Wife', race='Black', sex='Female', capital_gain='0', capital_loss='0', hours_per_week='40', native_country='Cuba', XYX='<=50K')>]"
      ]
     },
     "execution_count": 24,
     "metadata": {},
     "output_type": "execute_result"
    }
   ],
   "source": [
    "session.query(Adults).all()"
   ]
  },
  {
   "cell_type": "markdown",
   "metadata": {},
   "source": [
    "### 4. Filter Query"
   ]
  },
  {
   "cell_type": "markdown",
   "metadata": {},
   "source": [
    "#### 4.1 Filter Query 1"
   ]
  },
  {
   "cell_type": "code",
   "execution_count": 25,
   "metadata": {},
   "outputs": [
    {
     "name": "stdout",
     "output_type": "stream",
     "text": [
      "2019-01-11 10:23:49,252 INFO sqlalchemy.engine.base.Engine SELECT adults.id AS adults_id, adults.age AS adults_age, adults.workclass AS adults_workclass, adults.fnlwgt AS adults_fnlwgt, adults.education AS adults_education, adults.education_num AS adults_education_num, adults.marital_status AS adults_marital_status, adults.occupation AS adults_occupation, adults.relationship AS adults_relationship, adults.race AS adults_race, adults.sex AS adults_sex, adults.capital_gain AS adults_capital_gain, adults.capital_loss AS adults_capital_loss, adults.hours_per_week AS adults_hours_per_week, adults.native_country AS adults_native_country, adults.\"XYX\" AS \"adults_XYX\" \n",
      "FROM adults \n",
      "WHERE adults.sex = ?\n",
      "2019-01-11 10:23:49,255 INFO sqlalchemy.engine.base.Engine ('Male',)\n"
     ]
    },
    {
     "data": {
      "text/plain": [
       "[<Adults(age='39', workclass='State-gov', fnlwgt='77516', education='Bachelors_Degree', education_num='13', marital_status='Never-married', occupation='Adm-clerical', relationship='Not-in-family', race='White', sex='Male', capital_gain='2174', capital_loss='0', hours_per_week='40', native_country='USA', XYX='<=50K')>,\n",
       " <Adults(age='38', workclass='Private', fnlwgt='215646', education='HS-grad', education_num='9', marital_status='Divorced', occupation='Handlers-cleaners', relationship='Not-in-family', race='White', sex='Male', capital_gain='0', capital_loss='0', hours_per_week='40', native_country='USA', XYX='<=50K')>,\n",
       " <Adults(age='39', workclass='State-gov', fnlwgt='77516', education='Bachelors_Degree', education_num='13', marital_status='Never-married', occupation='Adm-clerical', relationship='Not-in-family', race='White', sex='Male', capital_gain='2174', capital_loss='0', hours_per_week='40', native_country='USA', XYX='<=50K')>,\n",
       " <Adults(age='38', workclass='Private', fnlwgt='215646', education='HS-grad', education_num='9', marital_status='Divorced', occupation='Handlers-cleaners', relationship='Not-in-family', race='White', sex='Male', capital_gain='0', capital_loss='0', hours_per_week='40', native_country='USA', XYX='<=50K')>]"
      ]
     },
     "execution_count": 25,
     "metadata": {},
     "output_type": "execute_result"
    }
   ],
   "source": [
    "## Display rows where sex == Male\n",
    "session.query(Adults).filter(Adults.sex == 'Male').all()"
   ]
  },
  {
   "cell_type": "markdown",
   "metadata": {},
   "source": [
    "#### 4.2 Filter Query 2"
   ]
  },
  {
   "cell_type": "code",
   "execution_count": 26,
   "metadata": {},
   "outputs": [
    {
     "name": "stdout",
     "output_type": "stream",
     "text": [
      "2019-01-11 10:24:18,103 INFO sqlalchemy.engine.base.Engine SELECT adults.id AS adults_id, adults.age AS adults_age, adults.workclass AS adults_workclass, adults.fnlwgt AS adults_fnlwgt, adults.education AS adults_education, adults.education_num AS adults_education_num, adults.marital_status AS adults_marital_status, adults.occupation AS adults_occupation, adults.relationship AS adults_relationship, adults.race AS adults_race, adults.sex AS adults_sex, adults.capital_gain AS adults_capital_gain, adults.capital_loss AS adults_capital_loss, adults.hours_per_week AS adults_hours_per_week, adults.native_country AS adults_native_country, adults.\"XYX\" AS \"adults_XYX\" \n",
      "FROM adults \n",
      "WHERE adults.relationship = ?\n",
      "2019-01-11 10:24:18,106 INFO sqlalchemy.engine.base.Engine ('Not-in-family',)\n"
     ]
    },
    {
     "data": {
      "text/plain": [
       "[<Adults(age='39', workclass='State-gov', fnlwgt='77516', education='Bachelors_Degree', education_num='13', marital_status='Never-married', occupation='Adm-clerical', relationship='Not-in-family', race='White', sex='Male', capital_gain='2174', capital_loss='0', hours_per_week='40', native_country='USA', XYX='<=50K')>,\n",
       " <Adults(age='38', workclass='Private', fnlwgt='215646', education='HS-grad', education_num='9', marital_status='Divorced', occupation='Handlers-cleaners', relationship='Not-in-family', race='White', sex='Male', capital_gain='0', capital_loss='0', hours_per_week='40', native_country='USA', XYX='<=50K')>,\n",
       " <Adults(age='39', workclass='State-gov', fnlwgt='77516', education='Bachelors_Degree', education_num='13', marital_status='Never-married', occupation='Adm-clerical', relationship='Not-in-family', race='White', sex='Male', capital_gain='2174', capital_loss='0', hours_per_week='40', native_country='USA', XYX='<=50K')>,\n",
       " <Adults(age='38', workclass='Private', fnlwgt='215646', education='HS-grad', education_num='9', marital_status='Divorced', occupation='Handlers-cleaners', relationship='Not-in-family', race='White', sex='Male', capital_gain='0', capital_loss='0', hours_per_week='40', native_country='USA', XYX='<=50K')>]"
      ]
     },
     "execution_count": 26,
     "metadata": {},
     "output_type": "execute_result"
    }
   ],
   "source": [
    "## Display rows Adults.relationship == 'Not-in-family'\n",
    "session.query(Adults).filter(Adults.relationship == 'Not-in-family').all()"
   ]
  },
  {
   "cell_type": "markdown",
   "metadata": {},
   "source": [
    "### 5. Function Query"
   ]
  },
  {
   "cell_type": "markdown",
   "metadata": {},
   "source": [
    "#### 5.1 Function query 1"
   ]
  },
  {
   "cell_type": "code",
   "execution_count": 27,
   "metadata": {},
   "outputs": [],
   "source": [
    "# Importing functions\n",
    "from sqlalchemy import func"
   ]
  },
  {
   "cell_type": "code",
   "execution_count": 28,
   "metadata": {},
   "outputs": [
    {
     "name": "stdout",
     "output_type": "stream",
     "text": [
      "2019-01-11 10:24:39,230 INFO sqlalchemy.engine.base.Engine SELECT count(adults.id) AS count_1 \n",
      "FROM adults\n",
      "2019-01-11 10:24:39,233 INFO sqlalchemy.engine.base.Engine ()\n"
     ]
    },
    {
     "data": {
      "text/plain": [
       "[(7)]"
      ]
     },
     "execution_count": 28,
     "metadata": {},
     "output_type": "execute_result"
    }
   ],
   "source": [
    "# count User records.\n",
    "session.query(func.count(Adults.id)).all()"
   ]
  },
  {
   "cell_type": "markdown",
   "metadata": {},
   "source": [
    "#### 5.2 Function query 2"
   ]
  },
  {
   "cell_type": "code",
   "execution_count": 29,
   "metadata": {},
   "outputs": [
    {
     "name": "stdout",
     "output_type": "stream",
     "text": [
      "2019-01-11 10:24:46,643 INFO sqlalchemy.engine.base.Engine SELECT sum(adults.age) AS sum_1 \n",
      "FROM adults\n",
      "2019-01-11 10:24:46,646 INFO sqlalchemy.engine.base.Engine ()\n"
     ]
    },
    {
     "data": {
      "text/plain": [
       "[(238)]"
      ]
     },
     "execution_count": 29,
     "metadata": {},
     "output_type": "execute_result"
    }
   ],
   "source": [
    "# find sum of age\n",
    "session.query(func.sum(Adults.age)).all()"
   ]
  },
  {
   "cell_type": "code",
   "execution_count": null,
   "metadata": {},
   "outputs": [],
   "source": []
  }
 ],
 "metadata": {
  "kernelspec": {
   "display_name": "Python 3",
   "language": "python",
   "name": "python3"
  },
  "language_info": {
   "codemirror_mode": {
    "name": "ipython",
    "version": 3
   },
   "file_extension": ".py",
   "mimetype": "text/x-python",
   "name": "python",
   "nbconvert_exporter": "python",
   "pygments_lexer": "ipython3",
   "version": "3.6.5"
  }
 },
 "nbformat": 4,
 "nbformat_minor": 2
}
